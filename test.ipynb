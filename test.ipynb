{
 "cells": [
  {
   "cell_type": "code",
   "execution_count": 1,
   "metadata": {},
   "outputs": [],
   "source": [
    "from sklearn.model_selection import train_test_split\n",
    "from sklearn.neighbors import KNeighborsClassifier\n",
    "from sklearn.svm import LinearSVC\n",
    "from sklearn.model_selection import GridSearchCV\n",
    "from sklearn.ensemble import RandomForestClassifier\n",
    "from sklearn.tree import DecisionTreeClassifier\n",
    "from sklearn.linear_model import LogisticRegression\n",
    "from sklearn.naive_bayes import GaussianNB\n",
    "from sklearn.metrics import accuracy_score, precision_score, recall_score, confusion_matrix\n",
    "from sklearn.decomposition import PCA"
   ]
  },
  {
   "cell_type": "code",
   "execution_count": null,
   "metadata": {},
   "outputs": [],
   "source": [
    "import matplotlib.pyplot as plt\n",
    "import seaborn as sns\n",
    "import warnings\n",
    "import numpy as np\n",
    "warnings.filterwarnings('ignore')"
   ]
  },
  {
   "cell_type": "code",
   "execution_count": null,
   "metadata": {},
   "outputs": [],
   "source": [
    "from dataset import Dataset"
   ]
  },
  {
   "cell_type": "code",
   "execution_count": null,
   "metadata": {},
   "outputs": [],
   "source": [
    "path = r'E:\\knns\\data\\cat_dog'\n",
    "width = 64\n",
    "height = 64"
   ]
  },
  {
   "cell_type": "code",
   "execution_count": null,
   "metadata": {},
   "outputs": [],
   "source": [
    "loader = Dataset(path=path, width=width, height=height)\n",
    "X = loader.load_images(path=path)\n",
    "y = loader.load_labels(12500, 12500)"
   ]
  },
  {
   "cell_type": "code",
   "execution_count": null,
   "metadata": {},
   "outputs": [],
   "source": [
    "X_train, X_test, y_train, y_test = train_test_split(X, y, test_size=0.2)"
   ]
  },
  {
   "cell_type": "code",
   "execution_count": null,
   "metadata": {},
   "outputs": [],
   "source": [
    "X_train = X_train.reshape(X_train.shape[0], -1)\n",
    "# X_train = X_train.astype('float32')\n",
    "X_test = X_test.reshape(X_test.shape[0], -1)\n",
    "# X_test = X_test.astype('float32')"
   ]
  },
  {
   "cell_type": "code",
   "execution_count": null,
   "metadata": {},
   "outputs": [],
   "source": [
    "def _confusion_matrix(y_true, y_pred):\n",
    "    cm = confusion_matrix(y_true, y_pred)\n",
    "\n",
    "    plt.figure(figsize=(5, 5))\n",
    "    sns.heatmap(cm, annot=True, fmt='d', cmap='Blues')\n",
    "    plt.title('Confusion Matrix')\n",
    "    plt.xlabel('Predicted')\n",
    "    plt.ylabel('Actual')\n",
    "    plt.show()\n",
    "\n",
    "    return cm"
   ]
  },
  {
   "cell_type": "code",
   "execution_count": null,
   "metadata": {},
   "outputs": [],
   "source": [
    "# pca = PCA(n_components=4096)\n",
    "# X_train = pca.fit_transform(X_train)\n",
    "# X_test = pca.transform(X_test)"
   ]
  },
  {
   "cell_type": "code",
   "execution_count": null,
   "metadata": {},
   "outputs": [],
   "source": [
    "print(np.mean(X_train))\n",
    "print(np.std(X_train))\n",
    "print(np.var(X_train))"
   ]
  },
  {
   "cell_type": "code",
   "execution_count": null,
   "metadata": {},
   "outputs": [],
   "source": [
    "def perform_grid_search_cv(model, param_grid, X_train, y_train, cv=5, verbose=2):\n",
    "    grid_search = GridSearchCV(model, param_grid, cv=cv, verbose=verbose)\n",
    "    grid_search.fit(X_train, y_train)\n",
    "\n",
    "    print(\"Best parameters: \", grid_search.best_params_)\n",
    "    print(\"Best score: \", grid_search.best_score_)\n",
    "\n",
    "    return grid_search.best_estimator_"
   ]
  },
  {
   "cell_type": "code",
   "execution_count": null,
   "metadata": {},
   "outputs": [],
   "source": [
    "# KNN\n",
    "# Best parameters:  {'metric': 'manhattan', 'n_neighbors': 9, 'weights': 'distance'}\n",
    "# Best score:  0.62255\n",
    "# SVM\n",
    "# Best parameters:  {'C': 0.1, 'loss': 'hinge'}\n",
    "# Best score:  0.53835\n"
   ]
  },
  {
   "cell_type": "code",
   "execution_count": null,
   "metadata": {},
   "outputs": [],
   "source": [
    "params_knn = {\n",
    "    'n_neighbors': [3, 5, 7, 9],\n",
    "    'weights': ['uniform', 'distance'],\n",
    "    'metric': ['euclidean', 'manhattan']\n",
    "}\n",
    "params_svm = {\n",
    "    'C': [0.1, 1, 10],\n",
    "    'loss': ['hinge', 'squared_hinge']\n",
    "}\n",
    "params_lr = {\n",
    "    'C': [0.1, 1, 10],\n",
    "    'penalty': ['l1', 'l2'],\n",
    "    'solver': ['liblinear']\n",
    "}\n",
    "params_dt = {\n",
    "    'criterion': ['gini', 'entropy'],\n",
    "    'max_depth': [None, 2, 4, 6],\n",
    "    'min_samples_split': [2, 5],\n",
    "    'min_samples_leaf': [1, 2, 4]\n",
    "}\n",
    "params_rf = {\n",
    "    'n_estimators': [10, 50, 100],\n",
    "    'criterion': ['gini', 'entropy'],\n",
    "    'max_depth': [None, 2, 4, 6],\n",
    "    'min_samples_split': [2, 5],\n",
    "    'min_samples_leaf': [1, 2, 4]\n",
    "}"
   ]
  },
  {
   "cell_type": "code",
   "execution_count": null,
   "metadata": {},
   "outputs": [],
   "source": [
    "# perform_grid_search_cv(KNeighborsClassifier(), param_grid=params_knn, X_train=X_train, y_train=y_train)"
   ]
  },
  {
   "cell_type": "code",
   "execution_count": null,
   "metadata": {},
   "outputs": [],
   "source": [
    "knn = KNeighborsClassifier(n_neighbors=9, metric='euclidean', weights='distance')\n",
    "knn.fit(X_train, y_train)\n",
    "y_pred_knn = knn.predict(X_test)"
   ]
  },
  {
   "cell_type": "code",
   "execution_count": null,
   "metadata": {},
   "outputs": [],
   "source": [
    "accuracy_knn = accuracy_score(y_test, y_pred_knn)\n",
    "precision_knn = precision_score(y_test, y_pred_knn, average='binary')  \n",
    "recall_knn = recall_score(y_test, y_pred_knn, average='binary') \n",
    "print(f'KNN Accuracy: {accuracy_knn * 100:.2f}%')\n",
    "print(f'KNN Precision: {precision_knn * 100:.2f}%')\n",
    "print(f'KNN Recall: {recall_knn * 100:.2f}%')\n",
    "cm_knn = _confusion_matrix(y_test, y_pred_knn)"
   ]
  },
  {
   "cell_type": "code",
   "execution_count": null,
   "metadata": {},
   "outputs": [],
   "source": [
    "# perform_grid_search_cv(LinearSVC(), param_grid=params_svm, X_train=X_train, y_train=y_train)"
   ]
  },
  {
   "cell_type": "code",
   "execution_count": null,
   "metadata": {},
   "outputs": [],
   "source": [
    "svm = LinearSVC(loss='hinge', C=10)\n",
    "svm.fit(X_train, y_train)\n",
    "y_pred_svm = svm.predict(X_test)"
   ]
  },
  {
   "cell_type": "code",
   "execution_count": null,
   "metadata": {},
   "outputs": [],
   "source": [
    "accuracy_svm = accuracy_score(y_test, y_pred_svm)\n",
    "precision_svm = precision_score(y_test, y_pred_svm, average='binary')  # Use 'binary' for binary classification\n",
    "recall_svm = recall_score(y_test, y_pred_svm, average='binary') \n",
    "print(f'SVM Accuracy: {accuracy_svm * 100:.2f}%')\n",
    "print(f'SVM Precision: {precision_svm * 100:.2f}%')\n",
    "print(f'SVM Recall: {recall_svm * 100:.2f}%')\n",
    "cm_svm = _confusion_matrix(y_test, y_pred_svm)"
   ]
  },
  {
   "cell_type": "code",
   "execution_count": null,
   "metadata": {},
   "outputs": [],
   "source": [
    "gnb = GaussianNB()\n",
    "gnb.fit(X_train, y_train)\n",
    "y_pred_gnb = gnb.predict(X_test)"
   ]
  },
  {
   "cell_type": "code",
   "execution_count": null,
   "metadata": {},
   "outputs": [],
   "source": [
    "accuracy_gnb = accuracy_score(y_test, y_pred_gnb)\n",
    "precision_gnb = precision_score(y_test, y_pred_gnb, average='binary')\n",
    "recall_gnb = recall_score(y_test, y_pred_gnb, average='binary') \n",
    "print(f'Gaussian Naive Bayes Accuracy: {accuracy_gnb * 100:.2f}%')\n",
    "print(f'Gaussian Naive Bayes Precision: {precision_gnb * 100:.2f}%')\n",
    "print(f'Gaussian Naive Bayes Recall: {recall_gnb * 100:.2f}%')\n",
    "cm_svm = _confusion_matrix(y_test, y_pred_gnb)"
   ]
  },
  {
   "cell_type": "code",
   "execution_count": null,
   "metadata": {},
   "outputs": [],
   "source": [
    "# perform_grid_search_cv(LogisticRegression(), param_grid=params_lr, X_train=X_train, y_train=y_train)"
   ]
  },
  {
   "cell_type": "code",
   "execution_count": null,
   "metadata": {},
   "outputs": [],
   "source": [
    "reg = LogisticRegression()\n",
    "reg.fit(X_train, y_train)\n",
    "y_pred_reg = reg.predict(X_test)"
   ]
  },
  {
   "cell_type": "code",
   "execution_count": null,
   "metadata": {},
   "outputs": [],
   "source": [
    "accuracy_reg = accuracy_score(y_test, y_pred_reg)\n",
    "precision_reg = precision_score(y_test, y_pred_reg, average='binary')  # Use 'binary' for binary classification\n",
    "recall_reg = recall_score(y_test, y_pred_reg, average='binary') \n",
    "print(f'Logistic Regression Accuracy: {accuracy_reg * 100:.2f}%')\n",
    "print(f'Logistic Regression Precision: {precision_reg * 100:.2f}%')\n",
    "print(f'Logistic Regression Recall: {recall_reg * 100:.2f}%')\n",
    "cm_reg = _confusion_matrix(y_test, y_pred_reg)"
   ]
  },
  {
   "cell_type": "code",
   "execution_count": null,
   "metadata": {},
   "outputs": [],
   "source": [
    "perform_grid_search_cv(DecisionTreeClassifier(), param_grid=params_dt, X_train=X_train, y_train=y_train)"
   ]
  },
  {
   "cell_type": "code",
   "execution_count": null,
   "metadata": {},
   "outputs": [],
   "source": [
    "dtc = DecisionTreeClassifier()\n",
    "dtc.fit(X_train, y_train)\n",
    "y_pred_dtc = dtc.predict(X_test)"
   ]
  },
  {
   "cell_type": "code",
   "execution_count": null,
   "metadata": {},
   "outputs": [],
   "source": [
    "accuracy_dtc = accuracy_score(y_test, y_pred_dtc)\n",
    "precision_dtc = precision_score(y_test, y_pred_dtc, average='binary')  # Use 'binary' for binary classification\n",
    "recall_dtc = recall_score(y_test, y_pred_dtc, average='binary') \n",
    "print(f'Decision Tree Accuracy: {accuracy_dtc * 100:.2f}%')\n",
    "print(f'Decision Tree Precision: {precision_dtc * 100:.2f}%')\n",
    "print(f'Decision Tree Recall: {recall_dtc * 100:.2f}%')\n",
    "cm_dtc = _confusion_matrix(y_test, y_pred_dtc)"
   ]
  },
  {
   "cell_type": "code",
   "execution_count": null,
   "metadata": {},
   "outputs": [],
   "source": [
    "perform_grid_search_cv(RandomForestClassifier(), param_grid=params_rf, X_train=X_train, y_train=y_train)"
   ]
  },
  {
   "cell_type": "code",
   "execution_count": null,
   "metadata": {},
   "outputs": [],
   "source": [
    "rfc = RandomForestClassifier()\n",
    "rfc.fit(X_train, y_train)\n",
    "y_pred_rfc = rfc.predict(X_test)"
   ]
  },
  {
   "cell_type": "code",
   "execution_count": null,
   "metadata": {},
   "outputs": [],
   "source": [
    "accuracy_rfc = accuracy_score(y_test, y_pred_rfc)\n",
    "precision_rfc = precision_score(y_test, y_pred_rfc, average='binary')  # Use 'binary' for binary classification\n",
    "recall_rfc = recall_score(y_test, y_pred_rfc, average='binary') \n",
    "print(f'Random Forests Accuracy: {accuracy_rfc * 100:.2f}%')\n",
    "print(f'Frandom Forests Precision: {precision_rfc * 100:.2f}%')\n",
    "print(f'Random Forests Recall: {recall_rfc * 100:.2f}%')\n",
    "cm_rfc = _confusion_matrix(y_test, y_pred_rfc)"
   ]
  }
 ],
 "metadata": {
  "kernelspec": {
   "display_name": "env",
   "language": "python",
   "name": "python3"
  },
  "language_info": {
   "codemirror_mode": {
    "name": "ipython",
    "version": 3
   },
   "file_extension": ".py",
   "mimetype": "text/x-python",
   "name": "python",
   "nbconvert_exporter": "python",
   "pygments_lexer": "ipython3",
   "version": "3.11.8"
  }
 },
 "nbformat": 4,
 "nbformat_minor": 2
}
